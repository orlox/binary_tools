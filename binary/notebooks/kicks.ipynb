{
 "cells": [
  {
   "cell_type": "markdown",
   "metadata": {},
   "source": [
    "# Utils Functions and Tests"
   ]
  },
  {
   "cell_type": "code",
   "execution_count": 1,
   "metadata": {
    "collapsed": true
   },
   "outputs": [],
   "source": [
    "import binary_tools\n",
    "from binary_tools.utils.kicks import*\n",
    "from binary_tools.utils.tests.test_kicks import*\n",
    "from binary_tools.utils.Keplers_laws import*\n",
    "from binary_tools.testing_circular_function import*\n",
    "from binary_tools.utils.tests.run_tests import*"
   ]
  },
  {
   "cell_type": "markdown",
   "metadata": {},
   "source": [
    "## kicks"
   ]
  },
  {
   "cell_type": "markdown",
   "metadata": {},
   "source": [
    "The kicks file contains a series of functions that randomly sample vaules to create both the kick magnitude and direction, and another seriers of functions that makes a preditions of the final system post kick. "
   ]
  },
  {
   "cell_type": "markdown",
   "metadata": {},
   "source": [
    "The first is rand_phi() which samples the spherical coordinate $\\phi$ from 0 to 2$\\pi$. The second is rand_theta() which samples the spherical coordinate $\\theta$ from 0 to $\\pi$. The last is rand_velocity($\\sigma$) which accepts a value $\\sigma$ and returns a random velocity sampled from a maxwellian distribution."
   ]
  },
  {
   "cell_type": "markdown",
   "metadata": {},
   "source": [
    "$\\phi$ follows the distribution:\n",
    "\n",
    "$$f(x) = 1$$"
   ]
  },
  {
   "cell_type": "code",
   "execution_count": 2,
   "metadata": {
    "collapsed": true
   },
   "outputs": [],
   "source": [
    "phi = rand_phi()"
   ]
  },
  {
   "cell_type": "markdown",
   "metadata": {},
   "source": [
    "$\\theta$ follows the distribution:\n",
    "\n",
    "$$f(x) = \\frac{1}{2\\sin(\\theta)}$$"
   ]
  },
  {
   "cell_type": "code",
   "execution_count": 3,
   "metadata": {
    "collapsed": true
   },
   "outputs": [],
   "source": [
    "theta = rand_theta()"
   ]
  },
  {
   "cell_type": "markdown",
   "metadata": {},
   "source": [
    "the velocity follows the maxwellian distribution:\n",
    "\n",
    "$$f(v) = \\left(\\frac{2}{\\pi\\sigma^2}\\right)^{\\left(\\frac{-1}{2}\\right)}e^{\\frac{-v^2}{(2\\sigma^2)}}$$"
   ]
  },
  {
   "cell_type": "code",
   "execution_count": 4,
   "metadata": {
    "collapsed": true
   },
   "outputs": [],
   "source": [
    "velocity = rand_velocity(100)"
   ]
  },
  {
   "cell_type": "markdown",
   "metadata": {},
   "source": [
    "The following function created is a function that accepts initial conditions on a circular binary system and returns the final semi-major axis, final eccentricity, the angle between the pre and post explosion orbital planes, and a boolean describing if the orbit is unbound\n",
    "\n",
    "The following calculation was done following Kalogera (1996), ApJ, 471, 352.\n",
    "    \n",
    "First the Velocities are calculated. $V_r$ is the velocity of $M_1$ pre-explosion, and the following three velocities are the components of the kicks.\n",
    "\n",
    "$V_r = \\sqrt{\\frac{G(M_1+M_2)}{A}}$\n",
    "\n",
    "$V_{ky} = \\cos(\\theta)V_k$\n",
    "\n",
    "$V_{kz} = \\sin(\\theta)\\sin(\\phi)V_k$\n",
    "\n",
    "$V_{kx} = \\sin(\\theta)\\cos(\\phi)V_k$\n",
    "\n",
    "Next, the post explosion orbital parameters are computed using Eqs. (3), (4) and (5) of Kalogera (1996)\n",
    "     \n",
    "$A_f = \\frac{G(M_{ns} + M_2)}{\\frac{2G(M_{ns}+M_2)}{A} -V_k^2 -V_r^2 - 2V_{ky}V_r}$\n",
    "\n",
    "$e = \\sqrt{1 - \\frac{(V_{kz}^2 + V_{ky}^2 + V_r^2 + 2V_{ky}V_r)A^2}{G(M_{ns}+M_2)A_f}}$\n",
    "\n",
    "$\\theta_{new} = \\arccos\\left(\\frac{V_{ky} + V_r}{\\sqrt{(V_{ky}+V_r)^2 +V_{kz}^2}}\\right)$\n",
    "\n",
    "Where $A_f$ is the final semi-major axis, e is the eccentricity, $\\theta_{new}$ is the angle between the pre and post explosion orbital planes, $V_k$ is the kick velocity, $M_1$ and $M_2$ are the masses of a binary system in solar masses pre-explosion, $M_{ns}$ is the mass of the neutron star post-explosion, A is the semi-major axis, $M\\odot$ is the mass of the sun, $R\\odot$ is the radius of the sun, and G is the gravitational constant"
   ]
  },
  {
   "cell_type": "code",
   "execution_count": 5,
   "metadata": {},
   "outputs": [
    {
     "data": {
      "text/plain": [
       "(-216.89722975066914, 1.6131868172477377, 0.014976704790066301, False)"
      ]
     },
     "execution_count": 5,
     "metadata": {},
     "output_type": "execute_result"
    }
   ],
   "source": [
    "post_explosion_params_circular(133, 5.5, 55, 1.4, theta, phi, velocity)"
   ]
  },
  {
   "cell_type": "markdown",
   "metadata": {},
   "source": [
    "To consider a non circular system, a series of functions were created to sample an eccentric system with a kick. The first function finds a random true anomaly of the system, then the second uses that true anomaly to find the separation of the system."
   ]
  },
  {
   "cell_type": "code",
   "execution_count": 6,
   "metadata": {
    "collapsed": true
   },
   "outputs": [],
   "source": [
    "sample_e = 0.2"
   ]
  },
  {
   "cell_type": "markdown",
   "metadata": {},
   "source": [
    "the true anomaly follows the distribution:\n",
    "\n",
    "$$f(x) = \\sqrt{\\frac{1}{4\\pi}}\\frac{(1-e^2)^{1.5}}{(1+e\\cos(u))^2}$$\n",
    "\n",
    "where u is the true anomaly and e is the eccentricity"
   ]
  },
  {
   "cell_type": "code",
   "execution_count": 7,
   "metadata": {
    "collapsed": true
   },
   "outputs": [],
   "source": [
    "true_anomaly = rand_true_anomaly(sample_e)"
   ]
  },
  {
   "cell_type": "markdown",
   "metadata": {},
   "source": [
    "the separation is calculated from the following equation:\n",
    "    \n",
    "$$f(x) = \\frac{A(1 - e^2)}{1+e\\cos(u)}$$\n",
    "\n",
    "where A is the semi-major axis, u is the randomly sampled true anomaly, and e is the eccentricity"
   ]
  },
  {
   "cell_type": "code",
   "execution_count": 8,
   "metadata": {},
   "outputs": [
    {
     "data": {
      "text/plain": [
       "112.51895411097156"
      ]
     },
     "execution_count": 8,
     "metadata": {},
     "output_type": "execute_result"
    }
   ],
   "source": [
    "rand_separation(sample_e,133)"
   ]
  },
  {
   "cell_type": "markdown",
   "metadata": {},
   "source": [
    "The last part of the eccentric series is a function that accepts the initial contitions of an eccentric system, then returns final semi-major axis, final eccentricity, and a boolean describing if the orbit is unbound"
   ]
  },
  {
   "cell_type": "code",
   "execution_count": 9,
   "metadata": {},
   "outputs": [
    {
     "data": {
      "text/plain": [
       "(-146.20521888281991, 1.7315420675337563, False)"
      ]
     },
     "execution_count": 9,
     "metadata": {},
     "output_type": "execute_result"
    }
   ],
   "source": [
    "post_explosion_params_general( 133, 5.5, 55, 1.4, sample_e, theta, phi, velocity, true_anomaly)"
   ]
  },
  {
   "cell_type": "markdown",
   "metadata": {},
   "source": [
    "## test kicks"
   ]
  },
  {
   "cell_type": "markdown",
   "metadata": {},
   "source": [
    "Test kicks is a file containing a series of tests for the functions in kicks."
   ]
  },
  {
   "cell_type": "markdown",
   "metadata": {},
   "source": [
    "The first set of functions compare the distributions created from sampling the functions in kicks.py to the expected distributions."
   ]
  },
  {
   "cell_type": "markdown",
   "metadata": {},
   "source": [
    "These histogram based tests works by first creating a array of values containing outputs from the function being tested. For example, the test_rand_phi array contains values from the rand_phi function. That array is then used in the numpy.histogram function. \n",
    "\n",
    "In order to check that the random functions are producing the distributions expected of them, the values of the histogram need to be conpared to the expected values directly calulated by the distribution. The equations of the cumulative distribution function of these distributions are as follows,\n",
    "\n",
    "phi: $f(x) = \\frac{1}{2\\pi}$\n",
    "\n",
    "theta: $f(x) = -\\frac{\\cos(\\theta)}{2}$\n",
    "\n",
    "velocity: $f(x)$ = maxwell.cdf($velocity, 0, \\sigma$)\n",
    "\n",
    "true anomaly: for this function, a numerical integrator, scipy.integrate.quad was used\n",
    "\n",
    "A test was not created for the rand_separation function due the function being reliant on the rand_true_anomaly function.\n",
    "\n",
    "By evaluating the cdf of the distributions from one bin to the next, the expected probability of the bin was found. That probability was multiplied by the number of points in a new test array so the difference in the values between the expected output, and the function output calculated previously, could be compaired on a graph. \n",
    "\n",
    "In order to numerically compare the expected probability to the function probability, each value from the function histogram was first divided by the sum of all the values to obtain the probability of each bin. Then the difference between the expected probability and the function probability was compared to a given tolerance to see if the test would pass.\n",
    "\n",
    "    success = True\n",
    "    tolerance = max(vals)*tolerance\n",
    "    for k in range(0,len(vals)):\n",
    "        prob_hist = vals[k]/(sum(vals))\n",
    "        if abs(prob_test[k]-prob_hist)>tolerance:\n",
    "            success = False\n",
    "            break"
   ]
  },
  {
   "cell_type": "markdown",
   "metadata": {},
   "source": [
    "In the process a graph is created and saved by default, in the following examples this feature is altered so the graph is showen but not saved."
   ]
  },
  {
   "cell_type": "code",
   "execution_count": 10,
   "metadata": {},
   "outputs": [
    {
     "data": {
      "image/png": "[encoded data removed]",
      "text/plain": [
       "<matplotlib.figure.Figure at 0x108a0ccd0>"
      ]
     },
     "metadata": {},
     "output_type": "display_data"
    },
    {
     "data": {
      "text/plain": [
       "True"
      ]
     },
     "execution_count": 10,
     "metadata": {},
     "output_type": "execute_result"
    }
   ],
   "source": [
    "test_rand_phi(num_sample=10000, nbins=20, tolerance = 1e-3, seed=\"Jean\", plot=True, save=False)"
   ]
  },
  {
   "cell_type": "code",
   "execution_count": 11,
   "metadata": {},
   "outputs": [
    {
     "data": {
      "image/png": "[encoded data removed]",
      "text/plain": [
       "<matplotlib.figure.Figure at 0x1105f1910>"
      ]
     },
     "metadata": {},
     "output_type": "display_data"
    },
    {
     "data": {
      "text/plain": [
       "True"
      ]
     },
     "execution_count": 11,
     "metadata": {},
     "output_type": "execute_result"
    }
   ],
   "source": [
    "test_rand_theta(num_sample=10000, nbins=20, tolerance = 1e-3, seed=\"Jubilee\", plot=True, save=False)"
   ]
  },
  {
   "cell_type": "code",
   "execution_count": 12,
   "metadata": {},
   "outputs": [
    {
     "data": {
      "image/png": "[encoded data removed]",
      "text/plain": [
       "<matplotlib.figure.Figure at 0x11068cc90>"
      ]
     },
     "metadata": {},
     "output_type": "display_data"
    },
    {
     "data": {
      "text/plain": [
       "True"
      ]
     },
     "execution_count": 12,
     "metadata": {},
     "output_type": "execute_result"
    }
   ],
   "source": [
    "test_rand_velocity(100, num_sample=10000, nbins=20, tolerance=1e-3, seed=\"Dimitris\", plot=True, save=False)"
   ]
  },
  {
   "cell_type": "code",
   "execution_count": 13,
   "metadata": {},
   "outputs": [
    {
     "data": {
      "image/png": "[encoded data removed]",
      "text/plain": [
       "<matplotlib.figure.Figure at 0x113dfe810>"
      ]
     },
     "metadata": {},
     "output_type": "display_data"
    },
    {
     "data": {
      "text/plain": [
       "True"
      ]
     },
     "execution_count": 13,
     "metadata": {},
     "output_type": "execute_result"
    }
   ],
   "source": [
    "test_rand_true_anomaly(sample_e,num_sample=10000, nbins=20, tolerance = 1e-3, seed=\"Rhysand\",\\\n",
    "                       plot=True, save=False)"
   ]
  },
  {
   "cell_type": "markdown",
   "metadata": {},
   "source": [
    "the testing_circular_function_graph is different from the previous tests, there is no comparision being calculated in this test, it merely creates a graph that must be checked by a person against another correct graph."
   ]
  },
  {
   "cell_type": "code",
   "execution_count": 14,
   "metadata": {},
   "outputs": [
    {
     "data": {
      "image/png": "[encoded data removed]",
      "text/plain": [
       "<matplotlib.figure.Figure at 0x113a24f10>"
      ]
     },
     "metadata": {},
     "output_type": "display_data"
    },
    {
     "data": {
      "text/plain": [
       "'True'"
      ]
     },
     "execution_count": 14,
     "metadata": {},
     "output_type": "execute_result"
    }
   ],
   "source": [
    "testing_circular_function_graph(test_sigma=100,test_M1=5.5,test_M2=55,test_Ai=133,\\\n",
    "            test_Mns=1.4,seed=\"Flay\",sample_velocity=100,npoints=10000,plot=True,save=False)"
   ]
  },
  {
   "cell_type": "markdown",
   "metadata": {},
   "source": [
    "In order to fully test post_explosion_params_circular function, a second function was created in addition to testing_circular_function_graph which works by comparing the momentum calculated from that fuction, to a momentum calculated from other known values.\n",
    "\n",
    "The first momentum function used can be found in the Orbits.ipynb file, and the second was calculated as follows.\n",
    "\n",
    "First, the angular velocity was calculated.\n",
    "\n",
    "$\\omega = \\sqrt{\\frac{G M\\odot(M_1+M_2)}{(A R\\odot)^3}}$    rad/second\n",
    "        \n",
    "Then, the velocities of the masses before the kick were calculated.\n",
    "\n",
    "$V_{1_{initial}} = \\frac{M_2}{M_1+M_2}\\omega A R\\odot$    cm/second\n",
    "\n",
    "$V_2 = \\frac{M_1}{M_1+M_2}\\omega A R\\odot$     cm/second,-y direction\n",
    "        \n",
    "The velocities after the kick were calculated, $V_2$ is unaffected by the kick.\n",
    "\n",
    "$V_{1x_{final}} = V_k\\sin(\\phi)\\cos(\\theta)10^5$\n",
    "\n",
    "$V_{1y_{final}} = V_{1_{initial}} + V_k\\cos(\\theta)10^5$\n",
    "\n",
    "$V_{1z_{final}} = V_k\\sin(\\phi)\\sin(\\theta)10^5$\n",
    "        \n",
    "The separations from the center of mass in the center of mass frame post-explosion is calculated next.\n",
    "\n",
    "$R_2 = \\frac{A R\\odot M_{ns}}{M_{ns}+M_2}$    cm\n",
    "\n",
    "$R_1 = A R\\odot - R_2$    cm\n",
    "        \n",
    "After that, components of the angular momentum were calculate using the cross product.\n",
    "\n",
    "$Momentum_{1y} = -R_1V_{1z_{final}}M_{ns}M\\odot$\n",
    "\n",
    "$Momentum_{1z} = R_1V_{1y_{final}}M_{ns}M\\odot$\n",
    "\n",
    "$Momentum_2 = R_2V_2M_2M\\odot$    z direction\n",
    "        \n",
    "Finally, the absolute value of the components of the angular momentum were calculated to find the angular momentum.\n",
    "\n",
    "$Momentum_{calculated} = \\sqrt{Momentum_{1y}^2 + Momentum_{1z}^2 + Momentum_2^2}$\n",
    "\n",
    "Where $V_k$ is the kick velocity, $M_1$ and $M_2$ are the masses of a binary system in solar masses pre-explosion, $M_{ns}$ is the mass of the neutron star post-explosion, A is the semi-major axis, $M\\odot$ is the mass of the sun, $R\\odot$ is the radius of the sun, and G is the gravitational constant"
   ]
  },
  {
   "cell_type": "code",
   "execution_count": 15,
   "metadata": {},
   "outputs": [
    {
     "data": {
      "text/plain": [
       "True"
      ]
     },
     "execution_count": 15,
     "metadata": {},
     "output_type": "execute_result"
    }
   ],
   "source": [
    "testing_circular_function_momentum(Ai=133, M1=5.5, M2=55, Mns=1.4, test_sigma=100,\\\n",
    "                                   num_sample=1000,seed = \"Lela\", tolerance=1e-3)"
   ]
  },
  {
   "cell_type": "markdown",
   "metadata": {},
   "source": [
    "A second version of the momentum test and the graph test were needed after the post_explosion_params_general function was created to test that function. These slightly modified functions accept the post_explosion_params_general function with an intial eccentricity of zero. the results they produce are very similar to the original circular tests."
   ]
  },
  {
   "cell_type": "markdown",
   "metadata": {},
   "source": [
    "Another function was created to test the post_explosion_params_general function. This function calculates the kick needed to force the eccentric system into a circular one then plugs those results into post_explosion_params_general to make sure the end eccentricity is zero.\n",
    "\n",
    "First the velocities at perigee and apogee were calculated.\n",
    "\n",
    "$V_{apogee} = \\sqrt{\\frac{G(M_1+M_2)(1-e)}{A(1+e)}}$\n",
    "\n",
    "$V_{perigee} = \\sqrt{\\frac{G(M_1+M_2)(1+e)}{A(1-e)}}$\n",
    "\n",
    "Then, the velocities needed post-explosion at perigee and apogee to sustain a circular orbit were calculated.\n",
    "\n",
    "$V_{circularapogee} = \\sqrt{\\frac{G(M_{ns}+M_2)}{A(1+e)}}$\n",
    "        \n",
    "$V_{circularperigee} = \\sqrt{\\frac{G(M_{ns}+M_2)}{A(1-e)}}$ \n",
    "\n",
    "By taking the difference between the two velocities, the kick needed to produce these circular orbits were found for perigee and apogee.\n",
    "        \n",
    "$V_{kickapogee} = |(V_{apogee} - V_{circularapogee})10^5|$\n",
    "        \n",
    "$V_{kickperigee} = |(V_{circularperigee} - V_{perigee})10^5|$\n",
    "\n",
    "Where e is the eccentricity, $M_1$ and $M_2$ are the masses of a binary system in solar masses pre-explosion, $M_{ns}$ is the mass of the neutron star post-explosion, A is the semi-major axis, and G is the gravitational constant.\n",
    "        \n",
    "These values were then plugged into the post_explosion_params_general function to see if the kick did indeed produce a circular orbit."
   ]
  },
  {
   "cell_type": "code",
   "execution_count": 16,
   "metadata": {},
   "outputs": [
    {
     "data": {
      "text/plain": [
       "True"
      ]
     },
     "execution_count": 16,
     "metadata": {},
     "output_type": "execute_result"
    }
   ],
   "source": [
    "testing_eccentric_kick(Ai=133, M1=5.5, M2=55, Mns=1.4, num_sample=100, seed = \"Guarnaschelli\")"
   ]
  },
  {
   "cell_type": "markdown",
   "metadata": {},
   "source": [
    "An additional test was created for the post_explosions_params_general function that kicks a circular system with mass loss, then reverses that with mass gain back into a circular orbit.\n",
    "\n",
    "This is done by taking the results from plugging a circular orbit into the post_explosion_params_general function and using them to find the true anomaly at which this kick needs to happen in order to kick that system back into a circular orbit.\n",
    "        \n",
    "$true_{anomaly} = \\arccos(\\frac{semi_{major_i}(1-e_i^2)}{e_iA} - \\frac{1}{e_i})$\n",
    "\n",
    "Where A is the semi-major axis pre-explosion, $semi_{major_i}$ is the semi-major axis post explosion, and e is the eccentricity.\n",
    "\n",
    "There are four different possible ways to reverse the kick that are dependent on the true anomaly and theta. 1) the inital kick sends the masses into an eccentric orbit in the same initial direction, with a true anomaly between 0 and $\\pi$. 2) the inital kick sends the masses into an eccentric orbit in the same initial direction, with a true anomaly between $\\pi$ and $2\\pi$. 3)the inital kick sends the masses into an eccentric orbit in the opposit direction, with a true anomaly between 0 and $\\pi$. 4) the inital kick sends the masses into an eccentricorbit in the opposit direction, with a true anomaly between $\\pi$ and $2\\pi$."
   ]
  },
  {
   "cell_type": "code",
   "execution_count": 17,
   "metadata": {},
   "outputs": [
    {
     "data": {
      "text/plain": [
       "True"
      ]
     },
     "execution_count": 17,
     "metadata": {},
     "output_type": "execute_result"
    }
   ],
   "source": [
    "testing_inverse_kick(Ai=133, M1=5.5, M2=55, Mns=1.4, test_sigma=1000, num_sample=100,\\\n",
    "                                                    seed=\"Tamlin\",tolerance=1e-4)"
   ]
  },
  {
   "cell_type": "markdown",
   "metadata": {},
   "source": [
    "A full version of the momentum test was also created to test the post_explosion_params_general in the case of an initial eccentric orbit. The momentum is calculated in a slightly different method from the previous momentum funcitons.\n",
    "\n",
    "This angular momentum is calculated by first finding the components of the velocity of $M_1$ pre-explosion. \n",
    "    \n",
    "$V_{\\theta_i} = \\frac{\\sqrt{G(M_1+M_2) M\\odot R\\odot A(1-e^2)}}{separation_i}$\n",
    "        \n",
    "$V_{radius_i} = \\sqrt{G(M_1+M_2)M\\odot \\left(\\frac{2}{separation_i}-\\frac{1}{R\\odot A}-\\frac{AR\\odot(1-e^2)}{separation_i^2}\\right)}$\n",
    "        \n",
    "Then adding those velocites to the components of the kick to get a velocity in the $\\theta$, $\\phi$, and radial direction.\n",
    "    \n",
    "$V_{radius} = V_{radius_i} + V_k\\sin(\\theta)\\cos(\\phi)$\n",
    "\n",
    "$V_{\\theta} = V_{\\theta_i} + V_k\\cos(\\theta)$\n",
    "\n",
    "$V_{\\phi} = V_k\\sin(\\theta)\\sin(\\phi)$\n",
    "        \n",
    "These velocities are then changed to x and y components.\n",
    "    \n",
    "$V_{1x} = V_{radius}$\n",
    "\n",
    "$V_{1y} = \\sqrt{V_{\\theta}^2+V_{\\phi}^2}$\n",
    "        \n",
    "Next the center of mass possition and velocity are calculated, and using those values, the relative velocities and postion are calculated.\n",
    "        \n",
    "$R_{cm} = \\frac{M_{ns}separation_i}{(M_{ns}+M_2)}$    x direction\n",
    "        \n",
    "$V_{cm_x} = \\frac{M_{ns}V_{1x}}{M_{ns}+M_2}$     x dirrection\n",
    "        \n",
    "$V_{cm_y} = \\frac{M_{ns}V_{1y}}{M_{ns}+M_2}$    y dirrection\n",
    "        \n",
    "        \n",
    "$V_{x1}' = V_{1x} - V_{cm_x}$\n",
    "        \n",
    "$V_{y1}' = V_{1y} - V_{cm_y}$\n",
    "        \n",
    "        \n",
    "$R_{x1}' = separation_i - R_{cm}$    +x direction\n",
    "        \n",
    "$R_{y1}' = 0$ \n",
    "        \n",
    "        \n",
    "$V_{x2}' = -V_{cm_x}$\n",
    "\n",
    "$V_{y2}' = -V_{cm_y}$\n",
    "        \n",
    "        \n",
    "$R_{x2}' = 0 - R_{cm}$    -x direction\n",
    "        \n",
    "$R_{y2}' = 0$\n",
    "        \n",
    "From there, the angular momentum is calculated using the cross-product method, and adding the resulting values.\n",
    "        \n",
    "$momentum_{1x} = V_{x1}'M_{ns}M\\odot$\n",
    "\n",
    "$momentum_{1y} = V_{y1}'M_{ns}M\\odot$\n",
    "        \n",
    "        \n",
    "$momentum_{2x} = V_{x2}'M_2M\\odot$\n",
    "\n",
    "$momentum_{2y} = V_{y2}'M_2M\\odot$\n",
    "        \n",
    "        \n",
    "$angular_1 = R_{x1}'momentum_{1y} - R_{y1}'momentum_{1x}$    z direction\n",
    "        \n",
    "$angular_2 = R_{x2}'momentum_{2y} - R_{y2}'momentum_{2x}$    z direction\n",
    "        \n",
    "        \n",
    "$Momentum_{calculated} = angular_1 + angular_2$\n",
    "\n",
    "Where $V_k$ is the kick velocity, $M_1$ and $M_2$ are the masses of a binary system in solar masses pre-explosion, $M_{ns}$ is the mass of the neutron star post-explosion, e is the eccentricity, A is the semi-major axis, $M\\odot$ is the mass of the sun, $R\\odot$ is the radius of the sun, G is the gravitational constant, and any variable indicated with a prime is a relative variable."
   ]
  },
  {
   "cell_type": "code",
   "execution_count": 18,
   "metadata": {},
   "outputs": [
    {
     "data": {
      "text/plain": [
       "True"
      ]
     },
     "execution_count": 18,
     "metadata": {},
     "output_type": "execute_result"
    }
   ],
   "source": [
    "testing_momentum_full_eccentric(Ai=133, M1=5.5, M2=55, Mns=1.4, test_sigma=15,num_sample=100,\\\n",
    "                                seed=\"Lucien\",tolerance=1e-4)"
   ]
  },
  {
   "cell_type": "markdown",
   "metadata": {},
   "source": [
    "## Run tests"
   ]
  },
  {
   "cell_type": "markdown",
   "metadata": {},
   "source": [
    "This is a file containing a function that runs all the tests in the test_kicks file at once and saves any graphs that are created in the process."
   ]
  }
 ],
 "metadata": {
  "kernelspec": {
   "display_name": "Python 2",
   "language": "python",
   "name": "python2"
  },
  "language_info": {
   "codemirror_mode": {
    "name": "ipython",
    "version": 2
   },
   "file_extension": ".py",
   "mimetype": "text/x-python",
   "name": "python",
   "nbconvert_exporter": "python",
   "pygments_lexer": "ipython2",
   "version": "2.7.13"
  }
 },
 "nbformat": 4,
 "nbformat_minor": 2
}
