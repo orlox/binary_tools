{
 "cells": [
  {
   "cell_type": "code",
   "execution_count": 7,
   "metadata": {
    "collapsed": true
   },
   "outputs": [],
   "source": [
    "import binary_tools\n",
    "from binary_tools.utils.orbits import*\n",
    "from binary_tools.utils.kicks import*"
   ]
  },
  {
   "cell_type": "markdown",
   "metadata": {},
   "source": [
    "# Orbits"
   ]
  },
  {
   "cell_type": "markdown",
   "metadata": {},
   "source": [
    "This file contains small functions that are used repeatedly thoughout larger blocks of code. The first is an angular momentum calculator, using the equation \n",
    "\n",
    "$$J_{\\rm orb} = M_1 M\\odot M_2 M\\odot \\sqrt{G A R\\odot (1-e^2)/((M_1+M_2)M\\odot)}$$\n",
    "\n",
    "where $J_{\\rm orb}$ is the angular momentum, M_1 and M_2 are the masses of a binary system in solar masses, A is the semi-major axis, $M\\odot$ is the mass of the sun, $R\\odot$ is the radius of the sun, and G is the gravitational constant"
   ]
  },
  {
   "cell_type": "code",
   "execution_count": 8,
   "metadata": {
    "collapsed": true
   },
   "outputs": [],
   "source": [
    "sample_e = 0.2"
   ]
  },
  {
   "cell_type": "code",
   "execution_count": 9,
   "metadata": {
    "collapsed": true
   },
   "outputs": [],
   "source": [
    "true_anomaly = rand_true_anomaly(sample_e)"
   ]
  },
  {
   "cell_type": "code",
   "execution_count": 10,
   "metadata": {},
   "outputs": [
    {
     "data": {
      "text/plain": [
       "2.6572192836451168e+54"
      ]
     },
     "execution_count": 10,
     "metadata": {},
     "output_type": "execute_result"
    }
   ],
   "source": [
    "angular_momentum(133,5.5,55,sample_e)"
   ]
  },
  {
   "cell_type": "markdown",
   "metadata": {},
   "source": [
    "The second function is used to calculate the separation between two mass given the semi-major axis, the eccentricity, and the true anomaly. The following equation was used\n",
    "\n",
    "$$separation = \\frac{A(1 - e^2)} {1+e\\cos(u)}$$\n",
    "\n",
    "where A is the semi-major axis and u is the true anomaly"
   ]
  },
  {
   "cell_type": "code",
   "execution_count": 11,
   "metadata": {},
   "outputs": [
    {
     "data": {
      "text/plain": [
       "128.49409397358406"
      ]
     },
     "execution_count": 11,
     "metadata": {},
     "output_type": "execute_result"
    }
   ],
   "source": [
    "separation_function(133,sample_e,true_anomaly)"
   ]
  }
 ],
 "metadata": {
  "kernelspec": {
   "display_name": "Python 2",
   "language": "python",
   "name": "python2"
  },
  "language_info": {
   "codemirror_mode": {
    "name": "ipython",
    "version": 2
   },
   "file_extension": ".py",
   "mimetype": "text/x-python",
   "name": "python",
   "nbconvert_exporter": "python",
   "pygments_lexer": "ipython2",
   "version": "2.7.13"
  }
 },
 "nbformat": 4,
 "nbformat_minor": 2
}
